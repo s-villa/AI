{
 "cells": [
  {
   "cell_type": "markdown",
   "id": "817678e1",
   "metadata": {},
   "source": [
    "Esto es una celda de texto"
   ]
  },
  {
   "cell_type": "code",
   "execution_count": 2,
   "id": "1c1a38da",
   "metadata": {},
   "outputs": [
    {
     "name": "stdout",
     "output_type": "stream",
     "text": [
      "hola mundo\n"
     ]
    }
   ],
   "source": [
    "print(\"hola mundo\")"
   ]
  },
  {
   "cell_type": "code",
   "execution_count": 3,
   "id": "bb038469",
   "metadata": {},
   "outputs": [
    {
     "name": "stdout",
     "output_type": "stream",
     "text": [
      "Hola mundo 2\n"
     ]
    }
   ],
   "source": [
    "print(\"Hola mundo 2\")"
   ]
  },
  {
   "cell_type": "code",
   "execution_count": 4,
   "id": "9812fe7a",
   "metadata": {},
   "outputs": [
    {
     "name": "stdout",
     "output_type": "stream",
     "text": [
      "Hola mundo 3\n"
     ]
    }
   ],
   "source": [
    "print(\"Hola mundo 3\")"
   ]
  },
  {
   "cell_type": "code",
   "execution_count": 5,
   "id": "44b66bd3",
   "metadata": {},
   "outputs": [],
   "source": [
    "texto = \"Hola mundo\""
   ]
  },
  {
   "cell_type": "code",
   "execution_count": 6,
   "id": "2a29d436",
   "metadata": {},
   "outputs": [
    {
     "name": "stdout",
     "output_type": "stream",
     "text": [
      "Hola mundo\n"
     ]
    }
   ],
   "source": [
    "print(texto)"
   ]
  },
  {
   "cell_type": "code",
   "execution_count": null,
   "id": "d8bffe46",
   "metadata": {},
   "outputs": [],
   "source": []
  }
 ],
 "metadata": {
  "kernelspec": {
   "display_name": "Python 3 (ipykernel)",
   "language": "python",
   "name": "python3"
  },
  "language_info": {
   "codemirror_mode": {
    "name": "ipython",
    "version": 3
   },
   "file_extension": ".py",
   "mimetype": "text/x-python",
   "name": "python",
   "nbconvert_exporter": "python",
   "pygments_lexer": "ipython3",
   "version": "3.9.13"
  }
 },
 "nbformat": 4,
 "nbformat_minor": 5
}
